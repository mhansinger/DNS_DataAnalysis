{
 "cells": [
  {
   "cell_type": "markdown",
   "metadata": {},
   "source": [
    "# Erstellen einer Datenbank für die Interpolation von omega_model\n",
    "Für oblique flames"
   ]
  },
  {
   "cell_type": "code",
   "execution_count": 28,
   "metadata": {},
   "outputs": [],
   "source": [
    "import numpy as np\n",
    "import pandas as pd\n",
    "import matplotlib.pyplot as plt\n",
    "from scipy import special"
   ]
  },
  {
   "cell_type": "code",
   "execution_count": 52,
   "metadata": {},
   "outputs": [],
   "source": [
    "# Funktionen\n",
    "\n",
    "def Icsolexpb1(x,m,a):\n",
    "    return_value = 0.5*(1+ np.exp(1/(4*a) + x) * (m/(1+m))**(1/m) + \n",
    "                        ( np.exp(-a*(x**2 + (np.log(1 + 1/m)**2)/m**2)) * (1+ 1/m)**(2*a*x/m) / (np.sqrt(a)*np.sqrt(np.pi))) \n",
    "                        + x - np.exp(1/(4*a) + x) * (1 + 1/m)**(-1/m) * special.erf( (1+2*a*x - (2*a*np.log(1+1/m))/m)/(2*np.sqrt(a)) )\n",
    "                        - (np.log(1 + 1/m)/m) + special.erf( (np.sqrt(a) * (m*x - np.log(1+1/m)) ) / m ) * (1 + x - ( (np.log(1+1/m)) / m))\n",
    "                       )\n",
    "    return return_value\n",
    "\n",
    "\n",
    "def cmean0a(xm,delta,m,a):\n",
    "    return (Icsolexpb1(xm + delta / 2, m, a) - Icsolexpb1(xm - delta / 2, m, a)) / delta\n",
    "\n",
    "\n",
    "def Iapproxomr(x, xm, m, delta):\n",
    "    return_value = (59*np.sqrt(a)*np.exp(-0.5*((19 + 2*a*np.power(delta,2))*np.power(x,2) - 38*x*xm + 19*np.power(xm,2))/\n",
    "                                         np.power(delta,2) + (2*a*x*np.log(1 + 1/m))/m - \n",
    "                                         (a*np.power(np.log(1 + 1/m),2))/np.power(m,2))*(-38*np.sqrt(19 + 2*a*np.power(delta,2))*m*((19 + 2*a*np.power(delta,2))*m*x - \n",
    "                                                                                                                                    (19 + 4*a*np.power(delta,2))*m*xm +2*a*np.power(delta,2)*np.log(1 + 1/m)) + \n",
    "                                                                                         delta*np.exp(np.power((19 + 2*a*np.power(delta,2))*m*x - 19*m*xm -\n",
    "                                                                                                               2*a*np.power(delta,2)*np.log(1 + 1/m),2)/(2.*np.power(delta,2)*(19 + 2*a*np.power(delta,2))*\n",
    "                                                                                                               np.power(m,2)))*np.sqrt(2*np.pi)*\n",
    "                                                                                         special.erf(((19 + 2*a*np.power(delta,2))*m*x - 19*m*xm - 2*a*np.power(delta,2)*\n",
    "                                                                                                 np.log(1 + 1/m))/(delta*np.sqrt(38 + 4*a*np.power(delta,2))*m))*\n",
    "                                                                                         (np.power(m,2)*(1083 + 190*a*np.power(delta,2) +\n",
    "                                                                                                         np.power(a,2)*(8*np.power(delta,4) + 76*np.power(delta,2)*np.power(xm,2))) -\n",
    "                                                                                          152*np.power(a,2)*np.power(delta,2)*m*xm*np.log(1 + 1/m) +76*np.power(a,2)*np.power(delta,2)*\n",
    "                                                                                          np.power(np.log(1 + 1/m),2))))/(200.*np.power(19 + 2*a*np.power(delta,2),2.5)*np.power(m,2)*np.sqrt(np.pi))\n",
    "    \n",
    "    return return_value\n",
    "\n",
    "\n",
    "def ommeanapproxr(xm,m,delta):\n",
    "    return (Iapproxomr(xm + delta / np.sqrt(2), xm, m, delta) - Iapproxomr(xm - delta / np.sqrt(2), xm, m, delta)) /delta\n",
    "\n"
   ]
  },
  {
   "cell_type": "markdown",
   "metadata": {},
   "source": [
    "### Variablen und Konstanten\n"
   ]
  },
  {
   "cell_type": "code",
   "execution_count": 194,
   "metadata": {},
   "outputs": [],
   "source": [
    "m=49/11 \n",
    "a=3.8\n",
    "\n",
    "xi_vector = np.linspace(-10,5,1000)"
   ]
  },
  {
   "cell_type": "code",
   "execution_count": 195,
   "metadata": {},
   "outputs": [],
   "source": [
    "#cmean0a(xi_vector,0.5,m,a)"
   ]
  },
  {
   "cell_type": "code",
   "execution_count": 196,
   "metadata": {},
   "outputs": [],
   "source": [
    "#ommeanapproxr(xi_vector,m,0.5)"
   ]
  },
  {
   "cell_type": "code",
   "execution_count": 198,
   "metadata": {},
   "outputs": [
    {
     "name": "stderr",
     "output_type": "stream",
     "text": [
      "/home/max/.local/lib/python3.6/site-packages/ipykernel_launcher.py:25: RuntimeWarning: overflow encountered in exp\n",
      "/home/max/.local/lib/python3.6/site-packages/ipykernel_launcher.py:25: RuntimeWarning: overflow encountered in multiply\n",
      "/home/max/.local/lib/python3.6/site-packages/ipykernel_launcher.py:29: RuntimeWarning: overflow encountered in multiply\n",
      "/home/max/.local/lib/python3.6/site-packages/ipykernel_launcher.py:29: RuntimeWarning: invalid value encountered in multiply\n"
     ]
    },
    {
     "data": {
      "text/plain": [
       "<matplotlib.legend.Legend at 0x7f9b0cc05b38>"
      ]
     },
     "execution_count": 198,
     "metadata": {},
     "output_type": "execute_result"
    },
    {
     "data": {
      "image/png": "[encoded data removed]",
      "text/plain": [
       "<Figure size 720x360 with 1 Axes>"
      ]
     },
     "metadata": {
      "needs_background": "light"
     },
     "output_type": "display_data"
    }
   ],
   "source": [
    "plt.figure(figsize=(10,5))\n",
    "plt.plot(cmean0a(xi_vector,0.5,m,a),ommeanapproxr(xi_vector,m,0.5))\n",
    "plt.plot(cmean0a(xi_vector,3,m,a),ommeanapproxr(xi_vector,m,3))\n",
    "plt.plot(cmean0a(xi_vector,10,m,a),ommeanapproxr(xi_vector,m,10))\n",
    "plt.xlabel('$\\overline{c}$')\n",
    "plt.ylabel('$\\overline{\\omega}$')\n",
    "plt.xlim(0,1)\n",
    "#plt.ylim(0,1)\n",
    "plt.legend(['$\\Delta=0.5$','$\\Delta=3$','$\\Delta=10$'])"
   ]
  },
  {
   "cell_type": "markdown",
   "metadata": {},
   "source": [
    "## Erstellen der Datenbank\n",
    "\n",
    "    --> delta_xi = n * 1.792/11.14"
   ]
  },
  {
   "cell_type": "code",
   "execution_count": 199,
   "metadata": {},
   "outputs": [],
   "source": [
    "#cmean0a(xi_vector,10,m,a)"
   ]
  },
  {
   "cell_type": "code",
   "execution_count": 200,
   "metadata": {},
   "outputs": [],
   "source": [
    "c_grid_for_interpolation = np.linspace(0, 1, num=1001)\n",
    "\n",
    "delta_xi_max = 1.79/11.14*50\n",
    "\n",
    "delta_xi_grid = np.linspace(0.001,delta_xi_max,101)\n",
    "\n",
    "#c_grid = cmean0a(xi_vector,10,m,a)\n",
    "#omega = ommeanapproxr(xi_vector,m,10)\n",
    "\n",
    "# SAVE THE C_GRID and DELTA_XI_GRID\n",
    "np.save('omega_interploation_database/c_grid.npy', c_grid_for_interpolation)\n",
    "np.save('omega_interploation_database/delta_xi_grid.npy', delta_xi_grid)\n",
    "\n"
   ]
  },
  {
   "cell_type": "code",
   "execution_count": 201,
   "metadata": {},
   "outputs": [
    {
     "name": "stderr",
     "output_type": "stream",
     "text": [
      "/home/max/.local/lib/python3.6/site-packages/ipykernel_launcher.py:29: RuntimeWarning: overflow encountered in multiply\n",
      "/home/max/.local/lib/python3.6/site-packages/ipykernel_launcher.py:25: RuntimeWarning: overflow encountered in exp\n",
      "/home/max/.local/lib/python3.6/site-packages/ipykernel_launcher.py:25: RuntimeWarning: overflow encountered in multiply\n",
      "/home/max/.local/lib/python3.6/site-packages/ipykernel_launcher.py:29: RuntimeWarning: invalid value encountered in multiply\n"
     ]
    }
   ],
   "source": [
    "# LOOP OVER DELTAS and STORE TO ARRAY\n",
    "\n",
    "omega_array = np.zeros((len(delta_xi_grid),len(c_grid_for_interpolation)))\n",
    "\n",
    "\n",
    "for idx,delta in enumerate(delta_xi_grid):\n",
    "    c_vec = cmean0a(xi_vector,delta,m,a)\n",
    "    omega_vec = ommeanapproxr(xi_vector,m,delta)\n",
    "    \n",
    "    omega_interpolated = np.interp(c_grid_for_interpolation, c_vec, omega_vec)\n",
    "    # replace NaNs\n",
    "    omega_interpolated[np.isnan(omega_interpolated)] = 0\n",
    "    \n",
    "    # save to array\n",
    "    omega_array[idx,:] = omega_interpolated\n",
    "\n",
    "omega_array[np.isinf(omega_array)] = 0"
   ]
  },
  {
   "cell_type": "code",
   "execution_count": 202,
   "metadata": {},
   "outputs": [
    {
     "data": {
      "text/plain": [
       "<matplotlib.colorbar.Colorbar at 0x7f9af962cd68>"
      ]
     },
     "execution_count": 202,
     "metadata": {},
     "output_type": "execute_result"
    },
    {
     "data": {
      "image/png": "[encoded data removed]",
      "text/plain": [
       "<Figure size 720x360 with 2 Axes>"
      ]
     },
     "metadata": {
      "needs_background": "light"
     },
     "output_type": "display_data"
    }
   ],
   "source": [
    "plt.figure(figsize=(10,5))\n",
    "plt.imshow(omega_array,cmap='hot',aspect='auto')\n",
    "plt.colorbar()"
   ]
  },
  {
   "cell_type": "code",
   "execution_count": null,
   "metadata": {},
   "outputs": [],
   "source": []
  },
  {
   "cell_type": "code",
   "execution_count": 204,
   "metadata": {},
   "outputs": [],
   "source": [
    "# Save omega array\n",
    "np.save('omega_interploation_database/omega_array.npy', omega_array)"
   ]
  },
  {
   "cell_type": "markdown",
   "metadata": {},
   "source": [
    "## Test for interpolation"
   ]
  },
  {
   "cell_type": "code",
   "execution_count": 213,
   "metadata": {},
   "outputs": [],
   "source": [
    "test_c = 0.000000000001\n",
    "test_delta = 1\n",
    "\n",
    "index_c = np.argmin(np.abs(c_grid_for_interpolation - test_c))\n",
    "index_delta = np.argmin(np.abs(delta_xi_grid - test_delta))\n",
    "\n",
    "#a[index] # here is your result"
   ]
  },
  {
   "cell_type": "code",
   "execution_count": 214,
   "metadata": {},
   "outputs": [
    {
     "data": {
      "text/plain": [
       "5.6638341233971535e-133"
      ]
     },
     "execution_count": 214,
     "metadata": {},
     "output_type": "execute_result"
    }
   ],
   "source": [
    "omega_array[index_delta,index_c]"
   ]
  },
  {
   "cell_type": "code",
   "execution_count": 215,
   "metadata": {},
   "outputs": [],
   "source": [
    "#loaded_array = np.load('omega_interploation_database/omega_array.npy')"
   ]
  },
  {
   "cell_type": "code",
   "execution_count": 216,
   "metadata": {},
   "outputs": [
    {
     "data": {
      "text/plain": [
       "array([[3.22983226e-167, 6.60506772e-081, 9.30345362e-066, ...,\n",
       "        1.18062154e-001, 6.85121799e-002, 3.41949768e-041],\n",
       "       [1.29072600e-166, 1.32586687e-080, 1.64850267e-065, ...,\n",
       "        1.17632495e-001, 6.82542873e-002, 3.57599894e-015],\n",
       "       [2.49967657e-165, 6.91231629e-080, 6.63691948e-065, ...,\n",
       "        1.16434816e-001, 6.75433963e-002, 1.28385352e-040],\n",
       "       ...,\n",
       "       [0.00000000e+000, 0.00000000e+000, 0.00000000e+000, ...,\n",
       "        4.34732959e-002, 3.86261305e-002, 1.74828637e-002],\n",
       "       [0.00000000e+000, 0.00000000e+000, 0.00000000e+000, ...,\n",
       "        4.31363170e-002, 3.83675465e-002, 1.83914790e-002],\n",
       "       [0.00000000e+000, 0.00000000e+000, 0.00000000e+000, ...,\n",
       "        4.27990621e-002, 3.81059858e-002, 1.92857265e-002]])"
      ]
     },
     "execution_count": 216,
     "metadata": {},
     "output_type": "execute_result"
    }
   ],
   "source": []
  },
  {
   "cell_type": "code",
   "execution_count": null,
   "metadata": {
    "collapsed": true
   },
   "outputs": [],
   "source": []
  },
  {
   "cell_type": "code",
   "execution_count": null,
   "metadata": {},
   "outputs": [],
   "source": []
  }
 ],
 "metadata": {
  "kernelspec": {
   "display_name": "Python 3",
   "language": "python",
   "name": "python3"
  },
  "language_info": {
   "codemirror_mode": {
    "name": "ipython",
    "version": 3
   },
   "file_extension": ".py",
   "mimetype": "text/x-python",
   "name": "python",
   "nbconvert_exporter": "python",
   "pygments_lexer": "ipython3",
   "version": "3.6.9"
  }
 },
 "nbformat": 4,
 "nbformat_minor": 4
}
