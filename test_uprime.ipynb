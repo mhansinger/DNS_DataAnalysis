{
 "cells": [
  {
   "cell_type": "code",
   "execution_count": 1,
   "metadata": {},
   "outputs": [],
   "source": [
    "import numpy as np\n",
    "import scipy.ndimage\n",
    "from external_cython.uprime_python import compute_U_prime, compute_U_prime_U_bar\n",
    "\n",
    "from external_cython.compute_uprime_cython import compute_U_prime_cython\n"
   ]
  },
  {
   "cell_type": "code",
   "execution_count": 2,
   "metadata": {},
   "outputs": [],
   "source": [
    "# cube size\n",
    "Nx=Ny=Nz=100\n",
    "\n",
    "# set up a random array\n",
    "U = np.random.uniform(0, 1,size=(Nx,Nx,Nx))\n",
    "V = np.random.uniform(0, 1,size=(Nx,Nx,Nx))\n",
    "W = np.random.uniform(0, 1,size=(Nx,Nx,Nx))\n",
    "\n",
    "\n",
    "#filter_width \n",
    "filter_width = 16\n",
    "\n",
    "#U_bar = V_bar = W_bar = scipy.ndimage.filters.uniform_filter(U, [filter_width,filter_width,filter_width],mode='wrap')\n",
    "\n"
   ]
  },
  {
   "cell_type": "code",
   "execution_count": 3,
   "metadata": {},
   "outputs": [
    {
     "name": "stdout",
     "output_type": "stream",
     "text": [
      "3.28 ms ± 65.6 µs per loop (mean ± std. dev. of 7 runs, 100 loops each)\n"
     ]
    }
   ],
   "source": [
    "%timeit W*V*U\n",
    "\n"
   ]
  },
  {
   "cell_type": "code",
   "execution_count": 4,
   "metadata": {},
   "outputs": [],
   "source": [
    "U_32 = np.random.uniform(0, 1,size=(Nx,Nx,Nx)).astype(np.float32)\n",
    "V_32 = np.random.uniform(0, 1,size=(Nx,Nx,Nx)).astype(np.float32)\n",
    "W_32 = np.random.uniform(0, 1,size=(Nx,Nx,Nx)).astype(np.float32)"
   ]
  },
  {
   "cell_type": "code",
   "execution_count": 5,
   "metadata": {},
   "outputs": [
    {
     "name": "stdout",
     "output_type": "stream",
     "text": [
      "1.25 ms ± 39.8 µs per loop (mean ± std. dev. of 7 runs, 1000 loops each)\n"
     ]
    }
   ],
   "source": [
    "#%timeit W_32*V_32*U_32"
   ]
  },
  {
   "cell_type": "code",
   "execution_count": 6,
   "metadata": {},
   "outputs": [],
   "source": [
    "#%timeit U_prime2, V_prime2, W_prime2 = compute_U_prime(U_32, U_32, U_32, filter_width)"
   ]
  },
  {
   "cell_type": "code",
   "execution_count": 18,
   "metadata": {},
   "outputs": [
    {
     "name": "stdout",
     "output_type": "stream",
     "text": [
      "8.27 s ± 679 ms per loop (mean ± std. dev. of 7 runs, 1 loop each)\n"
     ]
    }
   ],
   "source": [
    "%timeit U_prime3, V_prime3, W_prime3 = compute_U_prime_cython(U_32, V_32, W_32, Nx, Ny, Nz, filter_width)"
   ]
  },
  {
   "cell_type": "code",
   "execution_count": 8,
   "metadata": {},
   "outputs": [],
   "source": [
    "# W.flags['C_CONTIGUOUS']\n",
    "# W=np.ascontiguousarray(W)\n"
   ]
  },
  {
   "cell_type": "code",
   "execution_count": 9,
   "metadata": {},
   "outputs": [
    {
     "name": "stdout",
     "output_type": "stream",
     "text": [
      "0.08223394304513931\n"
     ]
    }
   ],
   "source": [
    "#print(U_prime1[int(Nx/2),int(Nx/2),int(Nx/2)])\n",
    "#print(U_prime2[int(Nx/2),int(Nx/2),int(Nx/2)])\n",
    "print(U_prime3[int(Nx/2),int(Nx/2),int(Nx/2)])\n"
   ]
  },
  {
   "cell_type": "code",
   "execution_count": 10,
   "metadata": {},
   "outputs": [],
   "source": [
    "U_prime_np = np.asarray(U_prime3)\n"
   ]
  },
  {
   "cell_type": "code",
   "execution_count": 11,
   "metadata": {},
   "outputs": [
    {
     "name": "stdout",
     "output_type": "stream",
     "text": [
      "0.08223394\n"
     ]
    }
   ],
   "source": [
    "print(U_prime_np[int(Nx/2),int(Nx/2),int(Nx/2)])"
   ]
  },
  {
   "cell_type": "code",
   "execution_count": 12,
   "metadata": {},
   "outputs": [
    {
     "data": {
      "text/plain": [
       "compute_uprime_cython._memoryviewslice"
      ]
     },
     "execution_count": 12,
     "metadata": {},
     "output_type": "execute_result"
    }
   ],
   "source": [
    "type(U_prime3)"
   ]
  },
  {
   "cell_type": "code",
   "execution_count": 17,
   "metadata": {},
   "outputs": [
    {
     "data": {
      "text/plain": [
       "array([0., 0., 0., ..., 0., 0., 0.], dtype=float32)"
      ]
     },
     "execution_count": 17,
     "metadata": {},
     "output_type": "execute_result"
    }
   ],
   "source": [
    "np.asarray(U_prime3).reshape(100*100*100)"
   ]
  },
  {
   "cell_type": "code",
   "execution_count": null,
   "metadata": {},
   "outputs": [],
   "source": []
  }
 ],
 "metadata": {
  "kernelspec": {
   "display_name": "Python 3",
   "language": "python",
   "name": "python3"
  },
  "language_info": {
   "codemirror_mode": {
    "name": "ipython",
    "version": 3
   },
   "file_extension": ".py",
   "mimetype": "text/x-python",
   "name": "python",
   "nbconvert_exporter": "python",
   "pygments_lexer": "ipython3",
   "version": "3.6.9"
  }
 },
 "nbformat": 4,
 "nbformat_minor": 2
}
