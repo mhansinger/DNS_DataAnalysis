{
 "cells": [
  {
   "cell_type": "code",
   "execution_count": 1,
   "metadata": {},
   "outputs": [],
   "source": [
    "import numpy as np\n",
    "import scipy.ndimage\n",
    "from uprime_cython.uprime_python import compute_U_prime_alternative, compute_U_prime, compute_U_prime_U_bar\n",
    "\n",
    "from uprime_cython.compute_uprime_cython import compute_U_prime_cython\n"
   ]
  },
  {
   "cell_type": "code",
   "execution_count": 7,
   "metadata": {},
   "outputs": [],
   "source": [
    "# cube size\n",
    "Nx=Ny=Nz=100\n",
    "\n",
    "# set up a random array\n",
    "U = np.random.uniform(0, 1,size=(Nx,Nx,Nx))\n",
    "V = np.random.uniform(0, 1,size=(Nx,Nx,Nx))\n",
    "W = np.random.uniform(0, 1,size=(Nx,Nx,Nx))\n",
    "\n",
    "\n",
    "#filter_width \n",
    "filter_width = 16\n",
    "\n",
    "U_bar = V_bar = W_bar = scipy.ndimage.filters.uniform_filter(U, [filter_width,filter_width,filter_width],mode='wrap')\n",
    "\n"
   ]
  },
  {
   "cell_type": "code",
   "execution_count": 8,
   "metadata": {},
   "outputs": [],
   "source": [
    "#U_prime1, V_prime1, W_prime1 = compute_U_prime_alternative(U, V, W, Nx, Ny, Nz, filter_width)"
   ]
  },
  {
   "cell_type": "code",
   "execution_count": 9,
   "metadata": {},
   "outputs": [
    {
     "name": "stdout",
     "output_type": "stream",
     "text": [
      "1min 34s ± 1.83 s per loop (mean ± std. dev. of 7 runs, 1 loop each)\n"
     ]
    }
   ],
   "source": [
    "%timeit U_prime2, V_prime2, W_prime2 = compute_U_prime(U, V, W, filter_width)"
   ]
  },
  {
   "cell_type": "code",
   "execution_count": 10,
   "metadata": {},
   "outputs": [
    {
     "name": "stdout",
     "output_type": "stream",
     "text": [
      "10.1 s ± 32.3 ms per loop (mean ± std. dev. of 7 runs, 1 loop each)\n"
     ]
    }
   ],
   "source": [
    "%timeit U_prime3, V_prime3, W_prime3 =compute_U_prime_cython(U, V, W, Nx, Ny, Nz, filter_width)"
   ]
  },
  {
   "cell_type": "code",
   "execution_count": null,
   "metadata": {},
   "outputs": [],
   "source": []
  },
  {
   "cell_type": "code",
   "execution_count": 6,
   "metadata": {},
   "outputs": [
    {
     "name": "stdout",
     "output_type": "stream",
     "text": [
      "0.07948216251418845\n",
      "0.07948216251418841\n"
     ]
    }
   ],
   "source": [
    "#print(U_prime1[int(Nx/2),int(Nx/2),int(Nx/2)])\n",
    "print(U_prime2[int(Nx/2),int(Nx/2),int(Nx/2)])\n",
    "print(U_prime3[int(Nx/2),int(Nx/2),int(Nx/2)])\n"
   ]
  },
  {
   "cell_type": "code",
   "execution_count": null,
   "metadata": {},
   "outputs": [],
   "source": []
  },
  {
   "cell_type": "code",
   "execution_count": null,
   "metadata": {},
   "outputs": [],
   "source": []
  }
 ],
 "metadata": {
  "kernelspec": {
   "display_name": "Python 3",
   "language": "python",
   "name": "python3"
  },
  "language_info": {
   "codemirror_mode": {
    "name": "ipython",
    "version": 3
   },
   "file_extension": ".py",
   "mimetype": "text/x-python",
   "name": "python",
   "nbconvert_exporter": "python",
   "pygments_lexer": "ipython3",
   "version": "3.6.9"
  }
 },
 "nbformat": 4,
 "nbformat_minor": 2
}
