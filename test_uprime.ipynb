{
 "cells": [
  {
   "cell_type": "code",
   "execution_count": 1,
   "metadata": {},
   "outputs": [],
   "source": [
    "import numpy as np\n",
    "import scipy.ndimage\n",
    "from external_cython.uprime_python import compute_U_prime, compute_U_prime_U_bar\n",
    "\n",
    "from external_cython.compute_uprime_cython import compute_U_prime_cython\n"
   ]
  },
  {
   "cell_type": "code",
   "execution_count": 86,
   "metadata": {},
   "outputs": [],
   "source": [
    "# cube size\n",
    "Nx=Ny=Nz=100\n",
    "\n",
    "# set up a random array\n",
    "U = np.random.uniform(0, 1,size=(Nx,Nx,Nx))\n",
    "V = np.random.uniform(0, 1,size=(Nx,Nx,Nx))\n",
    "W = np.random.uniform(0, 1,size=(Nx,Nx,Nx))\n",
    "\n",
    "\n",
    "#filter_width \n",
    "filter_width = 32\n",
    "\n",
    "#U_bar = V_bar = W_bar = scipy.ndimage.filters.uniform_filter(U, [filter_width,filter_width,filter_width],mode='wrap')\n",
    "\n"
   ]
  },
  {
   "cell_type": "code",
   "execution_count": 3,
   "metadata": {},
   "outputs": [
    {
     "name": "stdout",
     "output_type": "stream",
     "text": [
      "3.28 ms ± 65.6 µs per loop (mean ± std. dev. of 7 runs, 100 loops each)\n"
     ]
    }
   ],
   "source": [
    "%timeit W*V*U\n",
    "\n"
   ]
  },
  {
   "cell_type": "code",
   "execution_count": 4,
   "metadata": {},
   "outputs": [],
   "source": [
    "U_32 = np.random.uniform(0, 1,size=(Nx,Nx,Nx)).astype(np.float32)\n",
    "V_32 = np.random.uniform(0, 1,size=(Nx,Nx,Nx)).astype(np.float32)\n",
    "W_32 = np.random.uniform(0, 1,size=(Nx,Nx,Nx)).astype(np.float32)"
   ]
  },
  {
   "cell_type": "code",
   "execution_count": 5,
   "metadata": {},
   "outputs": [
    {
     "name": "stdout",
     "output_type": "stream",
     "text": [
      "1.25 ms ± 39.8 µs per loop (mean ± std. dev. of 7 runs, 1000 loops each)\n"
     ]
    }
   ],
   "source": [
    "#%timeit W_32*V_32*U_32"
   ]
  },
  {
   "cell_type": "code",
   "execution_count": 19,
   "metadata": {},
   "outputs": [],
   "source": [
    "U_prime2, V_prime2, W_prime2 = compute_U_prime(U, V, W, filter_width)"
   ]
  },
  {
   "cell_type": "code",
   "execution_count": 87,
   "metadata": {},
   "outputs": [
    {
     "name": "stdout",
     "output_type": "stream",
     "text": [
      "29.1 s ± 279 ms per loop (mean ± std. dev. of 7 runs, 1 loop each)\n"
     ]
    }
   ],
   "source": [
    "%timeit U_prime3, V_prime3, W_prime3 = compute_U_prime_cython(U_32, V_32, W_32, Nx, Ny, Nz, filter_width)"
   ]
  },
  {
   "cell_type": "code",
   "execution_count": 8,
   "metadata": {},
   "outputs": [],
   "source": [
    "# W.flags['C_CONTIGUOUS']\n",
    "# W=np.ascontiguousarray(W)\n"
   ]
  },
  {
   "cell_type": "code",
   "execution_count": 9,
   "metadata": {},
   "outputs": [
    {
     "name": "stdout",
     "output_type": "stream",
     "text": [
      "0.08223394304513931\n"
     ]
    }
   ],
   "source": [
    "#print(U_prime1[int(Nx/2),int(Nx/2),int(Nx/2)])\n",
    "print(U_prime2[int(Nx/2),int(Nx/2),int(Nx/2)])\n",
    "print(U_prime3[int(Nx/2),int(Nx/2),int(Nx/2)])\n"
   ]
  },
  {
   "cell_type": "code",
   "execution_count": 10,
   "metadata": {},
   "outputs": [],
   "source": [
    "U_prime_np = np.asarray(U_prime3)\n"
   ]
  },
  {
   "cell_type": "code",
   "execution_count": 11,
   "metadata": {},
   "outputs": [
    {
     "name": "stdout",
     "output_type": "stream",
     "text": [
      "0.08223394\n"
     ]
    }
   ],
   "source": [
    "print(U_prime_np[int(Nx/2),int(Nx/2),int(Nx/2)])"
   ]
  },
  {
   "cell_type": "code",
   "execution_count": 12,
   "metadata": {},
   "outputs": [
    {
     "data": {
      "text/plain": [
       "compute_uprime_cython._memoryviewslice"
      ]
     },
     "execution_count": 12,
     "metadata": {},
     "output_type": "execute_result"
    }
   ],
   "source": [
    "type(U_prime3)"
   ]
  },
  {
   "cell_type": "code",
   "execution_count": 17,
   "metadata": {},
   "outputs": [
    {
     "data": {
      "text/plain": [
       "array([0., 0., 0., ..., 0., 0., 0.], dtype=float32)"
      ]
     },
     "execution_count": 17,
     "metadata": {},
     "output_type": "execute_result"
    }
   ],
   "source": [
    "np.asarray(U_prime3).reshape(100*100*100)"
   ]
  },
  {
   "cell_type": "code",
   "execution_count": 20,
   "metadata": {},
   "outputs": [],
   "source": [
    "a = 32.234234\n"
   ]
  },
  {
   "cell_type": "code",
   "execution_count": 23,
   "metadata": {},
   "outputs": [
    {
     "data": {
      "text/plain": [
       "numpy.float32"
      ]
     },
     "execution_count": 23,
     "metadata": {},
     "output_type": "execute_result"
    }
   ],
   "source": [
    "type(np.float32(a))"
   ]
  },
  {
   "cell_type": "code",
   "execution_count": 47,
   "metadata": {},
   "outputs": [
    {
     "data": {
      "text/plain": [
       "(1000000, 12)"
      ]
     },
     "execution_count": 47,
     "metadata": {},
     "output_type": "execute_result"
    }
   ],
   "source": [
    "dummy = np.random.uniform(0, 1, size=(100**3,12)).astype(np.float32)\n",
    "dummy.shape"
   ]
  },
  {
   "cell_type": "code",
   "execution_count": 59,
   "metadata": {},
   "outputs": [
    {
     "data": {
      "text/plain": [
       "(1000, 12)"
      ]
     },
     "execution_count": 59,
     "metadata": {},
     "output_type": "execute_result"
    }
   ],
   "source": [
    "dummy2= dummy.reshape(100,100,100,12)#[12,20:30,20:30,20:30]\n",
    "dummy2.shape\n",
    "\n",
    "dummy2 = dummy2[0:10,0:10,0:10,:]\n",
    "dummy2.reshape(10**3,12).shape\n"
   ]
  },
  {
   "cell_type": "code",
   "execution_count": 64,
   "metadata": {},
   "outputs": [],
   "source": [
    "import pandas as pd\n",
    "\n",
    "dummy_df = pd.DataFrame(data=U.reshape(Nx**3),columns=['U'])"
   ]
  },
  {
   "cell_type": "code",
   "execution_count": 75,
   "metadata": {},
   "outputs": [],
   "source": [
    "dummy_df.to_csv('dummy.csv')"
   ]
  },
  {
   "cell_type": "code",
   "execution_count": 85,
   "metadata": {},
   "outputs": [],
   "source": [
    "dummy_df.to_pickle('dummy.pkl',compression='infer')"
   ]
  },
  {
   "cell_type": "code",
   "execution_count": 77,
   "metadata": {},
   "outputs": [],
   "source": [
    "dummy_df.to_hdf('dummy.zh5',key='dummy')"
   ]
  },
  {
   "cell_type": "code",
   "execution_count": 67,
   "metadata": {},
   "outputs": [
    {
     "name": "stdout",
     "output_type": "stream",
     "text": [
      "146 ms ± 1.98 ms per loop (mean ± std. dev. of 7 runs, 10 loops each)\n"
     ]
    }
   ],
   "source": [
    "%timeit pd.read_csv('dummy.csv')"
   ]
  },
  {
   "cell_type": "code",
   "execution_count": 82,
   "metadata": {},
   "outputs": [
    {
     "name": "stdout",
     "output_type": "stream",
     "text": [
      "Help on function to_pickle in module pandas.io.pickle:\n",
      "\n",
      "to_pickle(obj, path, compression='infer', protocol=4)\n",
      "    Pickle (serialize) object to file.\n",
      "    \n",
      "    Parameters\n",
      "    ----------\n",
      "    obj : any object\n",
      "        Any python object.\n",
      "    path : str\n",
      "        File path where the pickled object will be stored.\n",
      "    compression : {'infer', 'gzip', 'bz2', 'zip', 'xz', None}, default 'infer'\n",
      "        A string representing the compression to use in the output file. By\n",
      "        default, infers from the file extension in specified path.\n",
      "    \n",
      "        .. versionadded:: 0.20.0\n",
      "    protocol : int\n",
      "        Int which indicates which protocol should be used by the pickler,\n",
      "        default HIGHEST_PROTOCOL (see [1], paragraph 12.1.2). The possible\n",
      "        values for this parameter depend on the version of Python. For Python\n",
      "        2.x, possible values are 0, 1, 2. For Python>=3.0, 3 is a valid value.\n",
      "        For Python >= 3.4, 4 is a valid value. A negative value for the\n",
      "        protocol parameter is equivalent to setting its value to\n",
      "        HIGHEST_PROTOCOL.\n",
      "    \n",
      "        .. [1] https://docs.python.org/3/library/pickle.html\n",
      "        .. versionadded:: 0.21.0\n",
      "    \n",
      "    See Also\n",
      "    --------\n",
      "    read_pickle : Load pickled pandas object (or any object) from file.\n",
      "    DataFrame.to_hdf : Write DataFrame to an HDF5 file.\n",
      "    DataFrame.to_sql : Write DataFrame to a SQL database.\n",
      "    DataFrame.to_parquet : Write a DataFrame to the binary parquet format.\n",
      "    \n",
      "    Examples\n",
      "    --------\n",
      "    >>> original_df = pd.DataFrame({\"foo\": range(5), \"bar\": range(5, 10)})\n",
      "    >>> original_df\n",
      "       foo  bar\n",
      "    0    0    5\n",
      "    1    1    6\n",
      "    2    2    7\n",
      "    3    3    8\n",
      "    4    4    9\n",
      "    >>> pd.to_pickle(original_df, \"./dummy.pkl\")\n",
      "    \n",
      "    >>> unpickled_df = pd.read_pickle(\"./dummy.pkl\")\n",
      "    >>> unpickled_df\n",
      "       foo  bar\n",
      "    0    0    5\n",
      "    1    1    6\n",
      "    2    2    7\n",
      "    3    3    8\n",
      "    4    4    9\n",
      "    \n",
      "    >>> import os\n",
      "    >>> os.remove(\"./dummy.pkl\")\n",
      "\n"
     ]
    }
   ],
   "source": [
    "pd.read_pickle('dummy.pkl')\n",
    "help(pd.to_pickle)"
   ]
  },
  {
   "cell_type": "code",
   "execution_count": 71,
   "metadata": {},
   "outputs": [
    {
     "name": "stdout",
     "output_type": "stream",
     "text": [
      "8.49 ms ± 32.3 µs per loop (mean ± std. dev. of 7 runs, 100 loops each)\n"
     ]
    }
   ],
   "source": [
    "%timeit pd.read_hdf('dummy.h5')"
   ]
  },
  {
   "cell_type": "code",
   "execution_count": null,
   "metadata": {},
   "outputs": [],
   "source": [
    "import pandas as pd\n",
    "data_set = pd.read_pickle('filter_width_TOPHAT_16_UWV_Junsu.pkl')\n",
    "\n",
    "c_bar_3D = data_set['c_bar'].values.reshape(100,100,100)"
   ]
  }
 ],
 "metadata": {
  "kernelspec": {
   "display_name": "Python 3",
   "language": "python",
   "name": "python3"
  },
  "language_info": {
   "codemirror_mode": {
    "name": "ipython",
    "version": 3
   },
   "file_extension": ".py",
   "mimetype": "text/x-python",
   "name": "python",
   "nbconvert_exporter": "python",
   "pygments_lexer": "ipython3",
   "version": "3.6.9"
  }
 },
 "nbformat": 4,
 "nbformat_minor": 2
}
