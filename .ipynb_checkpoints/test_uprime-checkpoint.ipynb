{
 "cells": [
  {
   "cell_type": "code",
   "execution_count": 25,
   "metadata": {},
   "outputs": [
    {
     "ename": "ImportError",
     "evalue": "cannot import name 'compute_U_prime_cython2'",
     "output_type": "error",
     "traceback": [
      "\u001b[0;31m---------------------------------------------------------------------------\u001b[0m",
      "\u001b[0;31mImportError\u001b[0m                               Traceback (most recent call last)",
      "\u001b[0;32m<ipython-input-25-3af0be0be782>\u001b[0m in \u001b[0;36m<module>\u001b[0;34m\u001b[0m\n\u001b[1;32m      3\u001b[0m \u001b[0;32mfrom\u001b[0m \u001b[0muprime_cython\u001b[0m\u001b[0;34m.\u001b[0m\u001b[0muprime_python\u001b[0m \u001b[0;32mimport\u001b[0m \u001b[0mcompute_U_prime_alternative\u001b[0m\u001b[0;34m,\u001b[0m \u001b[0mcompute_U_prime\u001b[0m\u001b[0;34m,\u001b[0m \u001b[0mcompute_U_prime_U_bar\u001b[0m\u001b[0;34m\u001b[0m\u001b[0;34m\u001b[0m\u001b[0m\n\u001b[1;32m      4\u001b[0m \u001b[0;34m\u001b[0m\u001b[0m\n\u001b[0;32m----> 5\u001b[0;31m \u001b[0;32mfrom\u001b[0m \u001b[0muprime_cython\u001b[0m\u001b[0;34m.\u001b[0m\u001b[0mcompute_uprime_cython\u001b[0m \u001b[0;32mimport\u001b[0m \u001b[0mcompute_U_prime_cython\u001b[0m\u001b[0;34m,\u001b[0m \u001b[0mcompute_U_prime_cython2\u001b[0m\u001b[0;34m\u001b[0m\u001b[0;34m\u001b[0m\u001b[0m\n\u001b[0m",
      "\u001b[0;31mImportError\u001b[0m: cannot import name 'compute_U_prime_cython2'"
     ]
    }
   ],
   "source": [
    "import numpy as np\n",
    "import scipy.ndimage\n",
    "from uprime_cython.uprime_python import compute_U_prime_alternative, compute_U_prime, compute_U_prime_U_bar\n",
    "\n",
    "from uprime_cython.compute_uprime_cython import compute_U_prime_cython, compute_U_prime_cython2"
   ]
  },
  {
   "cell_type": "code",
   "execution_count": 41,
   "metadata": {},
   "outputs": [],
   "source": [
    "# cube size\n",
    "Nx=Ny=Nz=10\n",
    "\n",
    "# set up a random array\n",
    "U = np.random.uniform(0, 1,size=(Nx,Nx,Nx))\n",
    "V = np.random.uniform(0, 1,size=(Nx,Nx,Nx))\n",
    "W = np.random.uniform(0, 1,size=(Nx,Nx,Nx))\n",
    "\n",
    "\n",
    "#filter_width \n",
    "filter_width = 2\n",
    "\n",
    "U_bar = V_bar = W_bar = scipy.ndimage.filters.uniform_filter(U, [filter_width,filter_width,filter_width],mode='wrap')\n",
    "\n"
   ]
  },
  {
   "cell_type": "code",
   "execution_count": 42,
   "metadata": {},
   "outputs": [],
   "source": [
    "#U_prime1, V_prime1, W_prime1 = compute_U_prime_alternative(U, V, W, Nx, Ny, Nz, filter_width)"
   ]
  },
  {
   "cell_type": "code",
   "execution_count": 43,
   "metadata": {},
   "outputs": [],
   "source": [
    "U_prime2, V_prime2, W_prime2 = compute_U_prime(U, V, W, filter_width)"
   ]
  },
  {
   "cell_type": "code",
   "execution_count": 44,
   "metadata": {},
   "outputs": [],
   "source": [
    "#U_prime3, V_prime3, W_prime3 =compute_U_prime_U_bar(U, V, W, Nx, Ny, Nz, U_bar, V_bar, W_bar, filter_width)"
   ]
  },
  {
   "cell_type": "code",
   "execution_count": 47,
   "metadata": {},
   "outputs": [],
   "source": [
    "U_prime4, V_prime4, W_prime4 =compute_U_prime_cython(U, V, W, Nx, Ny, Nz, U_bar, V_bar, W_bar, filter_width)"
   ]
  },
  {
   "cell_type": "code",
   "execution_count": 49,
   "metadata": {},
   "outputs": [
    {
     "name": "stdout",
     "output_type": "stream",
     "text": [
      "1.1635367491564947\n",
      "0.14544209364456187\n",
      "1.2293488621668138\n",
      "0.15366860777085173\n"
     ]
    }
   ],
   "source": [
    "#print(U_prime1[int(Nx/2),int(Nx/2),int(Nx/2)])\n",
    "print(U_prime2[int(Nx/2),int(Nx/2),int(Nx/2)])\n",
    "#print(U_prime3[int(Nx/2),int(Nx/2),int(Nx/2)])\n",
    "print(U_prime4[int(Nx/2),int(Nx/2),int(Nx/2)])"
   ]
  },
  {
   "cell_type": "code",
   "execution_count": 21,
   "metadata": {},
   "outputs": [
    {
     "ename": "NameError",
     "evalue": "name 'U_prime2' is not defined",
     "output_type": "error",
     "traceback": [
      "\u001b[0;31m---------------------------------------------------------------------------\u001b[0m",
      "\u001b[0;31mNameError\u001b[0m                                 Traceback (most recent call last)",
      "\u001b[0;32m<ipython-input-21-4d7d0fa17790>\u001b[0m in \u001b[0;36m<module>\u001b[0;34m\u001b[0m\n\u001b[0;32m----> 1\u001b[0;31m \u001b[0mU_prime2\u001b[0m\u001b[0;34m\u001b[0m\u001b[0;34m\u001b[0m\u001b[0m\n\u001b[0m",
      "\u001b[0;31mNameError\u001b[0m: name 'U_prime2' is not defined"
     ]
    }
   ],
   "source": [
    "U_prime2"
   ]
  },
  {
   "cell_type": "code",
   "execution_count": null,
   "metadata": {},
   "outputs": [],
   "source": []
  }
 ],
 "metadata": {
  "kernelspec": {
   "display_name": "Python 3",
   "language": "python",
   "name": "python3"
  },
  "language_info": {
   "codemirror_mode": {
    "name": "ipython",
    "version": 3
   },
   "file_extension": ".py",
   "mimetype": "text/x-python",
   "name": "python",
   "nbconvert_exporter": "python",
   "pygments_lexer": "ipython3",
   "version": "3.6.9"
  }
 },
 "nbformat": 4,
 "nbformat_minor": 2
}
