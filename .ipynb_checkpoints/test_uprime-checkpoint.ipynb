{
 "cells": [
  {
   "cell_type": "code",
   "execution_count": 7,
   "metadata": {},
   "outputs": [],
   "source": [
    "import numpy as np\n",
    "import scipy.ndimage\n",
    "from external_cython.uprime_python import compute_U_prime, compute_U_prime_U_bar\n",
    "\n",
    "from external_cython.compute_uprime_cython import compute_U_prime_cython\n"
   ]
  },
  {
   "cell_type": "code",
   "execution_count": 8,
   "metadata": {},
   "outputs": [],
   "source": [
    "# cube size\n",
    "Nx=Ny=Nz=100\n",
    "\n",
    "# set up a random array\n",
    "U = np.random.uniform(0, 1,size=(Nx,Nx,Nx))\n",
    "V = np.random.uniform(0, 1,size=(Nx,Nx,Nx))\n",
    "W = np.random.uniform(0, 1,size=(Nx,Nx,Nx))\n",
    "\n",
    "\n",
    "#filter_width \n",
    "filter_width = 16\n",
    "\n",
    "#U_bar = V_bar = W_bar = scipy.ndimage.filters.uniform_filter(U, [filter_width,filter_width,filter_width],mode='wrap')\n",
    "\n"
   ]
  },
  {
   "cell_type": "code",
   "execution_count": 16,
   "metadata": {},
   "outputs": [
    {
     "name": "stdout",
     "output_type": "stream",
     "text": [
      "3.31 ms ± 16.9 µs per loop (mean ± std. dev. of 7 runs, 100 loops each)\n"
     ]
    }
   ],
   "source": [
    "%timeit W*V*U\n",
    "\n"
   ]
  },
  {
   "cell_type": "code",
   "execution_count": 20,
   "metadata": {},
   "outputs": [],
   "source": [
    "U_32 = np.random.uniform(0, 1,size=(Nx,Nx,Nx)).astype(np.float32)\n",
    "V_32 = np.random.uniform(0, 1,size=(Nx,Nx,Nx)).astype(np.float32)\n",
    "W_32 = np.random.uniform(0, 1,size=(Nx,Nx,Nx)).astype(np.float32)"
   ]
  },
  {
   "cell_type": "code",
   "execution_count": 21,
   "metadata": {},
   "outputs": [
    {
     "name": "stdout",
     "output_type": "stream",
     "text": [
      "1.18 ms ± 3.41 µs per loop (mean ± std. dev. of 7 runs, 1000 loops each)\n"
     ]
    }
   ],
   "source": [
    "%timeit W_32*V_32*U_32"
   ]
  },
  {
   "cell_type": "code",
   "execution_count": 10,
   "metadata": {},
   "outputs": [
    {
     "name": "stdout",
     "output_type": "stream",
     "text": [
      "1min 42s ± 2.28 s per loop (mean ± std. dev. of 7 runs, 1 loop each)\n"
     ]
    }
   ],
   "source": [
    "%timeit U_prime2, V_prime2, W_prime2 = compute_U_prime(U, V, W, filter_width)"
   ]
  },
  {
   "cell_type": "code",
   "execution_count": 11,
   "metadata": {},
   "outputs": [
    {
     "name": "stdout",
     "output_type": "stream",
     "text": [
      "10 s ± 34.2 ms per loop (mean ± std. dev. of 7 runs, 1 loop each)\n"
     ]
    }
   ],
   "source": [
    "%timeit U_prime3, V_prime3, W_prime3 = compute_U_prime_cython(U_32, U_32, U_32, Nx, Ny, Nz, filter_width)"
   ]
  },
  {
   "cell_type": "code",
   "execution_count": null,
   "metadata": {},
   "outputs": [],
   "source": [
    "W.flags['C_CONTIGUOUS']\n",
    "W=np.ascontiguousarray(W)\n"
   ]
  },
  {
   "cell_type": "code",
   "execution_count": null,
   "metadata": {},
   "outputs": [],
   "source": [
    "#print(U_prime1[int(Nx/2),int(Nx/2),int(Nx/2)])\n",
    "print(U_prime2[int(Nx/2),int(Nx/2),int(Nx/2)])\n",
    "print(U_prime3[int(Nx/2),int(Nx/2),int(Nx/2)])\n"
   ]
  },
  {
   "cell_type": "code",
   "execution_count": null,
   "metadata": {},
   "outputs": [],
   "source": []
  },
  {
   "cell_type": "code",
   "execution_count": null,
   "metadata": {},
   "outputs": [],
   "source": []
  }
 ],
 "metadata": {
  "kernelspec": {
   "display_name": "Python 3",
   "language": "python",
   "name": "python3"
  },
  "language_info": {
   "codemirror_mode": {
    "name": "ipython",
    "version": 3
   },
   "file_extension": ".py",
   "mimetype": "text/x-python",
   "name": "python",
   "nbconvert_exporter": "python",
   "pygments_lexer": "ipython3",
   "version": "3.6.9"
  }
 },
 "nbformat": 4,
 "nbformat_minor": 2
}
